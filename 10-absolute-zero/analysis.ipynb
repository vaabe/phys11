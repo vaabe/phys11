{
 "cells": [
  {
   "cell_type": "markdown",
   "metadata": {},
   "source": [
    "# absolute zero data"
   ]
  },
  {
   "cell_type": "code",
   "execution_count": 49,
   "metadata": {},
   "outputs": [],
   "source": [
    "import pandas as pd\n",
    "import matplotlib.pyplot as plt\n",
    "from matplotlib.pyplot import figure\n",
    "import numpy as np"
   ]
  },
  {
   "cell_type": "code",
   "execution_count": 34,
   "metadata": {},
   "outputs": [
    {
     "data": {
      "text/html": [
       "<div>\n",
       "<style scoped>\n",
       "    .dataframe tbody tr th:only-of-type {\n",
       "        vertical-align: middle;\n",
       "    }\n",
       "\n",
       "    .dataframe tbody tr th {\n",
       "        vertical-align: top;\n",
       "    }\n",
       "\n",
       "    .dataframe thead th {\n",
       "        text-align: right;\n",
       "    }\n",
       "</style>\n",
       "<table border=\"1\" class=\"dataframe\">\n",
       "  <thead>\n",
       "    <tr style=\"text-align: right;\">\n",
       "      <th></th>\n",
       "      <th>setup</th>\n",
       "      <th>temperature_C</th>\n",
       "      <th>pressure_kPa</th>\n",
       "      <th>pressure_psi</th>\n",
       "    </tr>\n",
       "  </thead>\n",
       "  <tbody>\n",
       "    <tr>\n",
       "      <th>0</th>\n",
       "      <td>01_room_temperature</td>\n",
       "      <td>24.5</td>\n",
       "      <td>1.05</td>\n",
       "      <td>15.0</td>\n",
       "    </tr>\n",
       "    <tr>\n",
       "      <th>1</th>\n",
       "      <td>02_water_and_ice</td>\n",
       "      <td>0.5</td>\n",
       "      <td>0.95</td>\n",
       "      <td>13.5</td>\n",
       "    </tr>\n",
       "    <tr>\n",
       "      <th>2</th>\n",
       "      <td>03_dry_ice_and_alcohol</td>\n",
       "      <td>-62.0</td>\n",
       "      <td>0.72</td>\n",
       "      <td>10.5</td>\n",
       "    </tr>\n",
       "    <tr>\n",
       "      <th>3</th>\n",
       "      <td>04_liquid_nitrogen</td>\n",
       "      <td>-196.0</td>\n",
       "      <td>0.27</td>\n",
       "      <td>4.0</td>\n",
       "    </tr>\n",
       "    <tr>\n",
       "      <th>4</th>\n",
       "      <td>05_boiling_water</td>\n",
       "      <td>100.0</td>\n",
       "      <td>1.26</td>\n",
       "      <td>18.5</td>\n",
       "    </tr>\n",
       "  </tbody>\n",
       "</table>\n",
       "</div>"
      ],
      "text/plain": [
       "                    setup  temperature_C  pressure_kPa  pressure_psi\n",
       "0     01_room_temperature           24.5          1.05          15.0\n",
       "1        02_water_and_ice            0.5          0.95          13.5\n",
       "2  03_dry_ice_and_alcohol          -62.0          0.72          10.5\n",
       "3      04_liquid_nitrogen         -196.0          0.27           4.0\n",
       "4        05_boiling_water          100.0          1.26          18.5"
      ]
     },
     "execution_count": 34,
     "metadata": {},
     "output_type": "execute_result"
    }
   ],
   "source": [
    "# load and display data\n",
    "\n",
    "data = pd.read_csv(\"data.csv\")\n",
    "data"
   ]
  },
  {
   "cell_type": "code",
   "execution_count": 39,
   "metadata": {},
   "outputs": [
    {
     "data": {
      "text/html": [
       "<div>\n",
       "<style scoped>\n",
       "    .dataframe tbody tr th:only-of-type {\n",
       "        vertical-align: middle;\n",
       "    }\n",
       "\n",
       "    .dataframe tbody tr th {\n",
       "        vertical-align: top;\n",
       "    }\n",
       "\n",
       "    .dataframe thead th {\n",
       "        text-align: right;\n",
       "    }\n",
       "</style>\n",
       "<table border=\"1\" class=\"dataframe\">\n",
       "  <thead>\n",
       "    <tr style=\"text-align: right;\">\n",
       "      <th></th>\n",
       "      <th>setup</th>\n",
       "      <th>temperature_C</th>\n",
       "      <th>pressure_kPa</th>\n",
       "      <th>pressure_psi</th>\n",
       "      <th>temperature_K</th>\n",
       "      <th>pressure_Pa</th>\n",
       "    </tr>\n",
       "  </thead>\n",
       "  <tbody>\n",
       "    <tr>\n",
       "      <th>0</th>\n",
       "      <td>01_room_temperature</td>\n",
       "      <td>24.5</td>\n",
       "      <td>1.05</td>\n",
       "      <td>15.0</td>\n",
       "      <td>297.65</td>\n",
       "      <td>1050.0</td>\n",
       "    </tr>\n",
       "    <tr>\n",
       "      <th>1</th>\n",
       "      <td>02_water_and_ice</td>\n",
       "      <td>0.5</td>\n",
       "      <td>0.95</td>\n",
       "      <td>13.5</td>\n",
       "      <td>273.65</td>\n",
       "      <td>950.0</td>\n",
       "    </tr>\n",
       "    <tr>\n",
       "      <th>2</th>\n",
       "      <td>03_dry_ice_and_alcohol</td>\n",
       "      <td>-62.0</td>\n",
       "      <td>0.72</td>\n",
       "      <td>10.5</td>\n",
       "      <td>211.15</td>\n",
       "      <td>720.0</td>\n",
       "    </tr>\n",
       "    <tr>\n",
       "      <th>3</th>\n",
       "      <td>04_liquid_nitrogen</td>\n",
       "      <td>-196.0</td>\n",
       "      <td>0.27</td>\n",
       "      <td>4.0</td>\n",
       "      <td>77.15</td>\n",
       "      <td>270.0</td>\n",
       "    </tr>\n",
       "    <tr>\n",
       "      <th>4</th>\n",
       "      <td>05_boiling_water</td>\n",
       "      <td>100.0</td>\n",
       "      <td>1.26</td>\n",
       "      <td>18.5</td>\n",
       "      <td>373.15</td>\n",
       "      <td>1260.0</td>\n",
       "    </tr>\n",
       "  </tbody>\n",
       "</table>\n",
       "</div>"
      ],
      "text/plain": [
       "                    setup  temperature_C  pressure_kPa  pressure_psi  \\\n",
       "0     01_room_temperature           24.5          1.05          15.0   \n",
       "1        02_water_and_ice            0.5          0.95          13.5   \n",
       "2  03_dry_ice_and_alcohol          -62.0          0.72          10.5   \n",
       "3      04_liquid_nitrogen         -196.0          0.27           4.0   \n",
       "4        05_boiling_water          100.0          1.26          18.5   \n",
       "\n",
       "   temperature_K  pressure_Pa  \n",
       "0         297.65       1050.0  \n",
       "1         273.65        950.0  \n",
       "2         211.15        720.0  \n",
       "3          77.15        270.0  \n",
       "4         373.15       1260.0  "
      ]
     },
     "execution_count": 39,
     "metadata": {},
     "output_type": "execute_result"
    }
   ],
   "source": [
    "# add columns for temperature in K and pressure in Pa\n",
    "\n",
    "data['temperature_K'] = data['temperature_C'] + 273.15\n",
    "data['pressure_Pa'] = data['pressure_kPa'] * 1000\n",
    "\n",
    "data"
   ]
  },
  {
   "cell_type": "code",
   "execution_count": 72,
   "metadata": {},
   "outputs": [
    {
     "data": {
      "image/png": "[encoded data removed]",
      "text/plain": [
       "<Figure size 360x360 with 1 Axes>"
      ]
     },
     "metadata": {
      "needs_background": "light"
     },
     "output_type": "display_data"
    }
   ],
   "source": [
    "## make plot of temperature (K) on pressure (Pa)\n",
    "\n",
    "# assign arrays for x and y axes\n",
    "x = data['pressure_Pa']\n",
    "y = data['temperature_K']\n",
    "\n",
    "# create regression line\n",
    "coef = np.polyfit(x, y, 1)\n",
    "reg_line = np.poly1d(coef)\n",
    "\n",
    "# create plot\n",
    "plt.plot(x, y, 'yo', x, reg_line(x), '--k')\n",
    "plt.title(\"plot of temperature(K) on pressure(Pa)\")\n",
    "plt.xlabel(\"pressure (Pa)\")\n",
    "plt.ylabel(\"temperature (K)\")\n",
    "#plt.rcParams[\"figure.figsize\"] = (5, 5)\n",
    "plt.show()"
   ]
  },
  {
   "cell_type": "code",
   "execution_count": 79,
   "metadata": {},
   "outputs": [
    {
     "name": "stdout",
     "output_type": "stream",
     "text": [
      "slope = 0.29347217360868044\n",
      "y-intercept = -2.901347567378398\n"
     ]
    }
   ],
   "source": [
    "# print slope and y-intercept of line\n",
    "\n",
    "print(\"slope =\", coef[0])\n",
    "print(\"y-intercept =\", coef[1])"
   ]
  },
  {
   "cell_type": "code",
   "execution_count": null,
   "metadata": {},
   "outputs": [],
   "source": []
  }
 ],
 "metadata": {
  "kernelspec": {
   "display_name": "Python 3",
   "language": "python",
   "name": "python3"
  },
  "language_info": {
   "codemirror_mode": {
    "name": "ipython",
    "version": 3
   },
   "file_extension": ".py",
   "mimetype": "text/x-python",
   "name": "python",
   "nbconvert_exporter": "python",
   "pygments_lexer": "ipython3",
   "version": "3.8.5"
  }
 },
 "nbformat": 4,
 "nbformat_minor": 4
}
